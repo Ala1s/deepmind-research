{
 "cells": [
  {
   "cell_type": "code",
   "execution_count": 1,
   "metadata": {},
   "outputs": [
    {
     "name": "stdout",
     "output_type": "stream",
     "text": [
      "WARNING:tensorflow:Deprecation warnings have been disabled. Set TF_ENABLE_DEPRECATION_WARNINGS=1 to re-enable them.\n"
     ]
    },
    {
     "name": "stderr",
     "output_type": "stream",
     "text": [
      "2023-07-31 12:42:02.194761: I tensorflow/stream_executor/platform/default/dso_loader.cc:49] Successfully opened dynamic library libcudart.so.11.0\n",
      "WARNING:root:Limited tf.compat.v2.summary API due to missing TensorBoard installation.\n",
      "WARNING:root:Limited tf.compat.v2.summary API due to missing TensorBoard installation.\n"
     ]
    }
   ],
   "source": [
    "from glob import glob\n",
    "from tqdm import tqdm\n",
    "import pandas as pd\n",
    "import tensorflow.compat.v1 as tf\n",
    "\n",
    "tf.logging.set_verbosity(tf.logging.ERROR)  # Hide TF deprecation messages\n",
    "import numpy as np\n",
    "import pickle\n",
    "import modules\n",
    "import data_utils"
   ]
  },
  {
   "cell_type": "code",
   "execution_count": 2,
   "metadata": {},
   "outputs": [],
   "source": [
    "chair_meshes_paths = list(glob(\"chairs_ngon/*.obj\"))\n",
    "with open(\"chairs_split_dict.pickle\", 'rb') as f:\n",
    "    chairs_split_dict = pickle.load(f)\n",
    "train_paths = []\n",
    "val_paths = []\n",
    "test_paths = []\n",
    "for c in chair_meshes_paths:\n",
    "    try:\n",
    "        split = chairs_split_dict[c.split(\"/\")[-1].replace(\".obj\", \"\")]\n",
    "    except KeyError:\n",
    "        continue\n",
    "    if split =='train':\n",
    "        train_paths.append(c)\n",
    "    elif split =='val':\n",
    "        val_paths.append(c)\n",
    "    else:\n",
    "        test_paths.append(c)"
   ]
  },
  {
   "cell_type": "code",
   "execution_count": 3,
   "metadata": {},
   "outputs": [],
   "source": [
    "max_length = 30"
   ]
  },
  {
   "cell_type": "code",
   "execution_count": 4,
   "metadata": {},
   "outputs": [],
   "source": [
    "captions = pd.read_csv(\"captions_tablechair.csv\").dropna()"
   ]
  },
  {
   "cell_type": "code",
   "execution_count": 6,
   "metadata": {},
   "outputs": [],
   "source": [
    "with open('chair_to_text_full.pickle', 'rb') as f:\n",
    "    chair_to_text = pickle.load(f)\n",
    "with open('word_to_int_full.pickle', 'rb') as f:\n",
    "    word_to_int = pickle.load(f)\n",
    "with open('int_to_word_full.pickle', 'rb') as f:\n",
    "    int_to_word = pickle.load(f)"
   ]
  },
  {
   "cell_type": "code",
   "execution_count": 7,
   "metadata": {},
   "outputs": [],
   "source": [
    "max_length = 30"
   ]
  },
  {
   "cell_type": "code",
   "execution_count": 9,
   "metadata": {},
   "outputs": [],
   "source": [
    "def text2shape(paths):\n",
    "    for path in paths:\n",
    "        mesh_dict = data_utils.load_process_mesh(path)\n",
    "        if len(mesh_dict['vertices'])>800:\n",
    "            continue\n",
    "        if len(mesh_dict['faces'])>2800:\n",
    "            continue\n",
    "        try:\n",
    "            texts =  chair_to_text[path.split(\"/\")[-1].replace(\".obj\", \"\")]\n",
    "        except KeyError:\n",
    "            continue\n",
    "        text = np.random.choice(texts)[:max_length]\n",
    "        mesh_dict['text_feature'] = np.pad(text, (0,max_length-len(text)))\n",
    "        yield mesh_dict"
   ]
  },
  {
   "cell_type": "code",
   "execution_count": 11,
   "metadata": {},
   "outputs": [],
   "source": [
    "Text2ShapeDataset = tf.data.Dataset.from_generator(\n",
    "        lambda:text2shape(test_paths),\n",
    "        output_types={\n",
    "            'vertices': tf.int32, 'faces': tf.int32,\n",
    "            'text_feature': tf.int32},\n",
    "        output_shapes={\n",
    "            'vertices': tf.TensorShape([None, 3]), 'faces': tf.TensorShape([None]),\n",
    "            'text_feature':tf.TensorShape(max_length)})\n",
    "vertex_model_dataset = data_utils.make_vertex_model_dataset(Text2ShapeDataset, apply_random_shift=False)\n",
    "vertex_model_dataset = vertex_model_dataset.repeat()\n",
    "vertex_model_dataset = vertex_model_dataset.padded_batch(16, padded_shapes=vertex_model_dataset.output_shapes)\n",
    "vertex_model_dataset = vertex_model_dataset.prefetch(1)"
   ]
  },
  {
   "cell_type": "code",
   "execution_count": 12,
   "metadata": {},
   "outputs": [
    {
     "name": "stdout",
     "output_type": "stream",
     "text": [
      "Found 400000 word vectors.\n",
      "Converted 3657 words (6 misses)\n"
     ]
    }
   ],
   "source": [
    "vertex_model = modules.TextToVertexModel(\n",
    "    decoder_config=dict(\n",
    "      hidden_size=128,\n",
    "      fc_size=512,\n",
    "      num_heads=8,\n",
    "      layer_norm=True,\n",
    "      num_layers=24,\n",
    "      dropout_rate=0.4,\n",
    "      re_zero=True,\n",
    "      memory_efficient=True\n",
    "      ),\n",
    "    path_to_embeddings=\"glove/glove.6B.100d.txt\",\n",
    "    embedding_dims = 100,\n",
    "    quantization_bits=8,\n",
    "    vocab = word_to_int,\n",
    "    max_num_input_verts=800,  # number of vertices in the input mesh, if this is lower than the number of vertices in the mesh, there will be errors during training\n",
    "    use_discrete_embeddings=True\n",
    ")"
   ]
  },
  {
   "cell_type": "code",
   "execution_count": 13,
   "metadata": {},
   "outputs": [],
   "source": [
    "#borrowed from https://github.com/optas/shapeglot\n",
    "def token_ints_to_sentence(tokens, int_to_word):\n",
    "    text = [int_to_word[i] for i in tokens]\n",
    "    text = ' '.join(text)\n",
    "    stop = text.find('<EOS>')\n",
    "    if stop == -1:\n",
    "        stop = len(text)\n",
    "    text = text[:stop]\n",
    "    return text"
   ]
  },
  {
   "cell_type": "code",
   "execution_count": 19,
   "outputs": [],
   "source": [
    "it = vertex_model_dataset.make_initializable_iterator()\n",
    "vertex_model_batch = it.get_next()\n",
    "iterator_init_op = it.initializer\n",
    "vertex_samples = vertex_model.sample(\n",
    "    16, context=vertex_model_batch, max_sample_length=800, top_p=0.95,\n",
    "    recenter_verts=False, only_return_complete=False)\n",
    "saver_vertex = tf.train.Saver(var_list=vertex_model.variables)"
   ],
   "metadata": {
    "collapsed": false
   }
  },
  {
   "cell_type": "code",
   "execution_count": null,
   "metadata": {},
   "outputs": [],
   "source": [
    "face_module_config=dict(\n",
    "  encoder_config=dict(\n",
    "      hidden_size=512,\n",
    "      fc_size=2048,\n",
    "      num_heads=8,\n",
    "      layer_norm=True,\n",
    "      num_layers=10,\n",
    "      dropout_rate=0.2,\n",
    "      re_zero=True,\n",
    "      memory_efficient=True,\n",
    "      ),\n",
    "  decoder_config=dict(\n",
    "      hidden_size=512,\n",
    "      fc_size=2048,\n",
    "      num_heads=8,\n",
    "      layer_norm=True,\n",
    "      num_layers=14,\n",
    "      dropout_rate=0.2,\n",
    "      re_zero=True,\n",
    "      memory_efficient=True,\n",
    "      ),\n",
    "  class_conditional=False,\n",
    "  decoder_cross_attention=True,\n",
    "  use_discrete_vertex_embeddings=True,\n",
    "  max_seq_length=8000,\n",
    "  )\n",
    "face_model=modules.FaceModel(**face_module_config)\n",
    "face_samples_val = face_model.sample(\n",
    "    context=vertex_samples, max_sample_length=2800, top_p=0.95,\n",
    "    only_return_complete=True)\n",
    "face_model_saver = tf.train.Saver(var_list=face_model.variables)"
   ]
  },
  {
   "cell_type": "code",
   "execution_count": null,
   "metadata": {
    "scrolled": false
   },
   "outputs": [],
   "source": [
    "mesh_list = []\n",
    "num_samples_complete = 0\n",
    "num_samples_min = 10\n",
    "\n",
    "with tf.Session() as sess:\n",
    "    saver_vertex.restore(sess, \"text_vertex_shapeglot/best-237\")\n",
    "    face_model_saver.restore(sess, \"face_model/model\")\n",
    "    sess.run(iterator_init_op)\n",
    "    mesh_list = []\n",
    "    num_samples_complete = 0\n",
    "    while num_samples_complete < num_samples_min:\n",
    "        batch, v_samples_np = sess.run((vertex_model_batch, vertex_samples))\n",
    "        if v_samples_np['completed'].size == 0:\n",
    "            print('No vertex samples completed in this batch. Try increasing max_num_vertices.')\n",
    "            continue\n",
    "        f_samples_np = sess.run(face_samples_val, {vertex_samples[k]: v_samples_np[k] for k in vertex_samples.keys()})\n",
    "        v_samples_np = f_samples_np['context']\n",
    "        num_samples_complete_batch = f_samples_np['completed'].sum()\n",
    "        num_samples_complete += num_samples_complete_batch\n",
    "        print('Num. samples complete: {}'.format(num_samples_complete))\n",
    "        completed_indices = np.nonzero(f_samples_np['completed'])[0].tolist()\n",
    "        for k in range(num_samples_complete_batch):\n",
    "            print(token_ints_to_sentence(batch['text_feature'][completed_indices[k]], int_to_word))\n",
    "            #add gt mesh\n",
    "            mesh_list.append(\n",
    "            {'vertices': data_utils.dequantize_verts(batch['vertices'][completed_indices[k]]),\n",
    "                 'faces': data_utils.unflatten_faces(batch['faces'][completed_indices[k]])})\n",
    "            verts = v_samples_np['vertices'][k][:v_samples_np['num_vertices'][k]]\n",
    "            faces = data_utils.unflatten_faces(f_samples_np['faces'][k][:f_samples_np['num_face_indices'][k]])\n",
    "            #add generated mesh\n",
    "            mesh_list.append({'vertices': verts, 'faces': faces})\n",
    "\n",
    "\n",
    "data_utils.plot_meshes(mesh_list, ax_lims=0.4)"
   ]
  },
  {
   "cell_type": "code",
   "execution_count": null,
   "metadata": {},
   "outputs": [],
   "source": [
    "data_utils.plot_meshes(mesh_list[:2], ax_lims=0.4)"
   ]
  }
 ],
 "metadata": {
  "kernelspec": {
   "display_name": "Python 3 (ipykernel)",
   "language": "python",
   "name": "python3"
  },
  "language_info": {
   "codemirror_mode": {
    "name": "ipython",
    "version": 3
   },
   "file_extension": ".py",
   "mimetype": "text/x-python",
   "name": "python",
   "nbconvert_exporter": "python",
   "pygments_lexer": "ipython3",
   "version": "3.8.17"
  }
 },
 "nbformat": 4,
 "nbformat_minor": 1
}
