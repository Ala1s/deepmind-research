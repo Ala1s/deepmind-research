{
  "cells": [
    {
      "attachments": {},
      "cell_type": "markdown",
      "metadata": {
        "colab_type": "text",
        "id": "lUh_eWpealmh"
      },
      "source": [
        "Copyright 2020 DeepMind Technologies Limited\n",
        "\n",
        "Licensed under the Apache License, Version 2.0 (the \"License\");\n",
        "you may not use this file except in compliance with the License.\n",
        "You may obtain a copy of the License at\n",
        "\n",
        "     https://www.apache.org/licenses/LICENSE-2.0\n",
        "\n",
        "Unless required by applicable law or agreed to in writing, software\n",
        "distributed under the License is distributed on an \"AS IS\" BASIS,\n",
        "WITHOUT WARRANTIES OR CONDITIONS OF ANY KIND, either express or implied.\n",
        "See the License for the specific language governing permissions and\n",
        "limitations under the License."
      ]
    },
    {
      "attachments": {},
      "cell_type": "markdown",
      "metadata": {
        "colab_type": "text",
        "id": "kYd9gIfGJYZ8"
      },
      "source": [
        "## Clone repo and import dependencies"
      ]
    },
    {
      "cell_type": "code",
      "execution_count": 1,
      "metadata": {},
      "outputs": [
        {
          "name": "stderr",
          "output_type": "stream",
          "text": [
            "/home/deria/anaconda3/envs/AnkurTF/lib/python3.7/site-packages/tensorflow/python/framework/dtypes.py:516: FutureWarning: Passing (type, 1) or '1type' as a synonym of type is deprecated; in a future version of numpy, it will be understood as (type, (1,)) / '(1,)type'.\n",
            "  _np_qint8 = np.dtype([(\"qint8\", np.int8, 1)])\n",
            "/home/deria/anaconda3/envs/AnkurTF/lib/python3.7/site-packages/tensorflow/python/framework/dtypes.py:517: FutureWarning: Passing (type, 1) or '1type' as a synonym of type is deprecated; in a future version of numpy, it will be understood as (type, (1,)) / '(1,)type'.\n",
            "  _np_quint8 = np.dtype([(\"quint8\", np.uint8, 1)])\n",
            "/home/deria/anaconda3/envs/AnkurTF/lib/python3.7/site-packages/tensorflow/python/framework/dtypes.py:518: FutureWarning: Passing (type, 1) or '1type' as a synonym of type is deprecated; in a future version of numpy, it will be understood as (type, (1,)) / '(1,)type'.\n",
            "  _np_qint16 = np.dtype([(\"qint16\", np.int16, 1)])\n",
            "/home/deria/anaconda3/envs/AnkurTF/lib/python3.7/site-packages/tensorflow/python/framework/dtypes.py:519: FutureWarning: Passing (type, 1) or '1type' as a synonym of type is deprecated; in a future version of numpy, it will be understood as (type, (1,)) / '(1,)type'.\n",
            "  _np_quint16 = np.dtype([(\"quint16\", np.uint16, 1)])\n",
            "/home/deria/anaconda3/envs/AnkurTF/lib/python3.7/site-packages/tensorflow/python/framework/dtypes.py:520: FutureWarning: Passing (type, 1) or '1type' as a synonym of type is deprecated; in a future version of numpy, it will be understood as (type, (1,)) / '(1,)type'.\n",
            "  _np_qint32 = np.dtype([(\"qint32\", np.int32, 1)])\n",
            "/home/deria/anaconda3/envs/AnkurTF/lib/python3.7/site-packages/tensorflow/python/framework/dtypes.py:525: FutureWarning: Passing (type, 1) or '1type' as a synonym of type is deprecated; in a future version of numpy, it will be understood as (type, (1,)) / '(1,)type'.\n",
            "  np_resource = np.dtype([(\"resource\", np.ubyte, 1)])\n",
            "/home/deria/anaconda3/envs/AnkurTF/lib/python3.7/site-packages/tensorboard/compat/tensorflow_stub/dtypes.py:541: FutureWarning: Passing (type, 1) or '1type' as a synonym of type is deprecated; in a future version of numpy, it will be understood as (type, (1,)) / '(1,)type'.\n",
            "  _np_qint8 = np.dtype([(\"qint8\", np.int8, 1)])\n",
            "/home/deria/anaconda3/envs/AnkurTF/lib/python3.7/site-packages/tensorboard/compat/tensorflow_stub/dtypes.py:542: FutureWarning: Passing (type, 1) or '1type' as a synonym of type is deprecated; in a future version of numpy, it will be understood as (type, (1,)) / '(1,)type'.\n",
            "  _np_quint8 = np.dtype([(\"quint8\", np.uint8, 1)])\n",
            "/home/deria/anaconda3/envs/AnkurTF/lib/python3.7/site-packages/tensorboard/compat/tensorflow_stub/dtypes.py:543: FutureWarning: Passing (type, 1) or '1type' as a synonym of type is deprecated; in a future version of numpy, it will be understood as (type, (1,)) / '(1,)type'.\n",
            "  _np_qint16 = np.dtype([(\"qint16\", np.int16, 1)])\n",
            "/home/deria/anaconda3/envs/AnkurTF/lib/python3.7/site-packages/tensorboard/compat/tensorflow_stub/dtypes.py:544: FutureWarning: Passing (type, 1) or '1type' as a synonym of type is deprecated; in a future version of numpy, it will be understood as (type, (1,)) / '(1,)type'.\n",
            "  _np_quint16 = np.dtype([(\"quint16\", np.uint16, 1)])\n",
            "/home/deria/anaconda3/envs/AnkurTF/lib/python3.7/site-packages/tensorboard/compat/tensorflow_stub/dtypes.py:545: FutureWarning: Passing (type, 1) or '1type' as a synonym of type is deprecated; in a future version of numpy, it will be understood as (type, (1,)) / '(1,)type'.\n",
            "  _np_qint32 = np.dtype([(\"qint32\", np.int32, 1)])\n",
            "/home/deria/anaconda3/envs/AnkurTF/lib/python3.7/site-packages/tensorboard/compat/tensorflow_stub/dtypes.py:550: FutureWarning: Passing (type, 1) or '1type' as a synonym of type is deprecated; in a future version of numpy, it will be understood as (type, (1,)) / '(1,)type'.\n",
            "  np_resource = np.dtype([(\"resource\", np.ubyte, 1)])\n"
          ]
        }
      ],
      "source": [
        "import time\n",
        "import numpy as np\n",
        "import tensorflow.compat.v1 as tf\n",
        "tf.logging.set_verbosity(tf.logging.ERROR)  # Hide TF deprecation messages\n",
        "import matplotlib.pyplot as plt\n",
        "import modules_knowledge_distill as modules\n",
        "import data_utils"
      ]
    },
    {
      "attachments": {},
      "cell_type": "markdown",
      "metadata": {
        "colab_type": "text",
        "id": "YUZNqHTVJbm3"
      },
      "source": [
        "## Download pre-trained model weights from Google Cloud Storage"
      ]
    },
    {
      "attachments": {},
      "cell_type": "markdown",
      "metadata": {
        "colab_type": "text",
        "id": "vXhMOoxaJ3Xb"
      },
      "source": [
        "## Pre-trained model config"
      ]
    },
    {
      "cell_type": "code",
      "execution_count": 2,
      "metadata": {
        "colab": {},
        "colab_type": "code",
        "id": "7VGSSS9vJSn-"
      },
      "outputs": [],
      "source": [
        "with tf.device('/gpu:0'):\n",
        "  vertex_module_config=dict(\n",
        "    decoder_config=dict(\n",
        "        hidden_size=512,\n",
        "        fc_size=2048,\n",
        "        num_heads=8,\n",
        "        layer_norm=True,\n",
        "        num_layers=24,\n",
        "        dropout_rate=0.4,\n",
        "        re_zero=True,\n",
        "        memory_efficient=True\n",
        "        ),\n",
        "    quantization_bits=8,\n",
        "    class_conditional=True,\n",
        "    max_num_input_verts=5000,\n",
        "    use_discrete_embeddings=True,\n",
        "    )\n",
        "\n",
        "  face_module_config=dict(\n",
        "    encoder_config=dict(\n",
        "        hidden_size=512,\n",
        "        fc_size=2048,\n",
        "        num_heads=8,\n",
        "        layer_norm=True,\n",
        "        num_layers=10,\n",
        "        dropout_rate=0.2,\n",
        "        re_zero=True,\n",
        "        memory_efficient=True,\n",
        "        ),\n",
        "    decoder_config=dict(\n",
        "        hidden_size=512,\n",
        "        fc_size=2048,\n",
        "        num_heads=8,\n",
        "        layer_norm=True,\n",
        "        num_layers=14,\n",
        "        dropout_rate=0.2,\n",
        "        re_zero=True,\n",
        "        memory_efficient=True,\n",
        "        ),\n",
        "    class_conditional=False,\n",
        "    decoder_cross_attention=True,\n",
        "    use_discrete_vertex_embeddings=True,\n",
        "    max_seq_length=8000,\n",
        "    )"
      ]
    },
    {
      "attachments": {},
      "cell_type": "markdown",
      "metadata": {
        "colab_type": "text",
        "id": "WNXf_XbuKW4S"
      },
      "source": [
        "## Generate class-conditional samples\n",
        "\n",
        "Try varying the `class_id` parameter to generate meshes from different object categories. Good classes to try are tables (49), lamps (30), and cabinets (32). \n",
        "\n",
        "We can also specify the maximum number of vertices / face indices we want to see in the generated meshes using `max_num_vertices` and `max_num_face_indices`. The code will keep generating batches of samples until there are at least `num_samples_min` complete samples with the required number of vertices / faces.\n",
        "\n",
        "`top_p_vertex_model` and `top_p_face_model` control how varied the outputs are, with `1.` being the most varied, and `0.` the least varied. `0.9` is a good value for both the vertex and face models.\n",
        "\n",
        "Sampling should take around 2-5 minutes with a colab GPU using the default settings depending on the object class."
      ]
    },
    {
      "cell_type": "code",
      "execution_count": 3,
      "metadata": {
        "colab": {},
        "colab_type": "code",
        "id": "kqKMbPJJu3lk"
      },
      "outputs": [
        {
          "name": "stdout",
          "output_type": "stream",
          "text": [
            "pred_dist_face tfp.distributions.Categorical(\"while_1/face_model/create_dist/Categorical/\", batch_shape=[?, ?], event_shape=[], dtype=int32)\n",
            "pred_dist_face final (?, ?)\n",
            "complete_samples_face final (?,)\n",
            "[_DeviceAttributes(/job:localhost/replica:0/task:0/device:CPU:0, CPU, 268435456, 17878897169501035995), _DeviceAttributes(/job:localhost/replica:0/task:0/device:XLA_CPU:0, XLA_CPU, 17179869184, 3982493886473800506), _DeviceAttributes(/job:localhost/replica:0/task:0/device:XLA_GPU:0, XLA_GPU, 17179869184, 3200134911415215161)]\n",
            "Generating samples...\n"
          ]
        }
      ],
      "source": [
        "import os\n",
        "os.environ[\"CUDA_VISIBLE_DEVICES\"]=\"0\"\n",
        "\n",
        "class_id = '0) table' #@param ['0) airplane,aeroplane,plane','1) ashcan,trash can,garbage can,wastebin,ash bin,ash-bin,ashbin,dustbin,trash barrel,trash bin','2) bag,traveling bag,travelling bag,grip,suitcase','3) basket,handbasket','4) bathtub,bathing tub,bath,tub','5) bed','6) bench','7) birdhouse','8) bookshelf','9) bottle','10) bowl','11) bus,autobus,coach,charabanc,double-decker,jitney,motorbus,motorcoach,omnibus,passenger vehi','12) cabinet','13) camera,photographic camera','14) can,tin,tin can','15) cap','16) car,auto,automobile,machine,motorcar','17) cellular telephone,cellular phone,cellphone,cell,mobile phone','18) chair','19) clock','20) computer keyboard,keypad','21) dishwasher,dish washer,dishwashing machine','22) display,video display','23) earphone,earpiece,headphone,phone','24) faucet,spigot','25) file,file cabinet,filing cabinet','26) guitar','27) helmet','28) jar','29) knife','30) lamp','31) laptop,laptop computer','32) loudspeaker,speaker,speaker unit,loudspeaker system,speaker system','33) mailbox,letter box','34) microphone,mike','35) microwave,microwave oven','36) motorcycle,bike','37) mug','38) piano,pianoforte,forte-piano','39) pillow','40) pistol,handgun,side arm,shooting iron','41) pot,flowerpot','42) printer,printing machine','43) remote control,remote','44) rifle','45) rocket,projectile','46) skateboard','47) sofa,couch,lounge','48) stove','49) table','50) telephone,phone,telephone set','51) tower','52) train,railroad train','53) vessel,watercraft','54) washer,automatic washer,washing machine']\n",
        "num_samples_min = 1 #@param\n",
        "num_samples_batch = 8 #@param\n",
        "max_num_vertices = 400 #@param\n",
        "max_num_face_indices = 2000 #@param\n",
        "top_p_vertex_model = 0.9 #@param\n",
        "top_p_face_model = 0.9 #@param\n",
        "\n",
        "# Build models\n",
        "vertex_model = modules.VertexModel(**vertex_module_config)\n",
        "face_model = modules.FaceModel(**face_module_config)\n",
        "\n",
        "# Tile out class label to every element in batch\n",
        "class_id = int(class_id.split(')')[0])\n",
        "vertex_model_context = {'class_label': tf.fill([num_samples_batch,], class_id)}\n",
        "vertex_samples = vertex_model.sample(\n",
        "    num_samples_batch, context=vertex_model_context, \n",
        "    max_sample_length=max_num_vertices, top_p=top_p_vertex_model, \n",
        "    recenter_verts=True, only_return_complete=True)\n",
        "vertex_model_saver = tf.train.Saver(var_list=vertex_model.variables)\n",
        "\n",
        "# The face model generates samples conditioned on a context, which here is\n",
        "# the vertex model samples\n",
        "face_samples = face_model.sample(\n",
        "    vertex_samples, max_sample_length=max_num_face_indices, \n",
        "    top_p=top_p_face_model, only_return_complete=True)\n",
        "face_model_saver = tf.train.Saver(var_list=face_model.variables)\n",
        "config = tf.ConfigProto(device_count = {'GPU': 0})\n",
        "sess = tf.Session(config=config)\n",
        "# Start sampling\n",
        "start = time.time()\n",
        "with sess:\n",
        "  print(sess.list_devices())\n",
        "  vertex_model_saver.restore(sess, '/tmp/vertex_model/model')\n",
        "  face_model_saver.restore(sess, '/tmp/face_model/model')\n",
        "  print('Generating samples...')\n",
        "  mesh_list = []\n",
        "  num_samples_complete = 0\n",
        "  v_samples_np = sess.run(vertex_samples)\n",
        "  if v_samples_np['completed'].size == 0:\n",
        "    print('No vertex samples completed in this batch. Try increasing ' +\n",
        "          'max_num_vertices.')\n",
        "    \n",
        "  f_samples_np = sess.run(\n",
        "      face_samples,\n",
        "      {vertex_samples[k]: v_samples_np[k] for k in vertex_samples.keys()})\n",
        "  print(f_samples_np)\n",
        "end = time.time()\n",
        "print('sampling time: {}'.format(end - start))"
      ]
    },
    {
      "attachments": {},
      "cell_type": "markdown",
      "metadata": {
        "colab_type": "text",
        "id": "OOQV6pMvSymz"
      },
      "source": [
        "## Export meshes as `.obj` files\n",
        "Pick a `mesh_id` (starting at 0) corresponding to the samples generated above. Refresh the colab file browser to find an `.obj` file with the mesh data."
      ]
    },
    {
      "cell_type": "code",
      "execution_count": null,
      "metadata": {
        "colab": {},
        "colab_type": "code",
        "id": "fO0Klbq2Sx0m"
      },
      "outputs": [],
      "source": [
        "mesh_id = 3  #@param\n",
        "data_utils.write_obj(\n",
        "    mesh_list[mesh_id]['vertices'], mesh_list[mesh_id]['faces'], \n",
        "    'mesh-{}.obj'.format(mesh_id))"
      ]
    }
  ],
  "metadata": {
    "colab": {
      "collapsed_sections": [],
      "name": "sampling-pretrained.ipynb",
      "provenance": [
        {
          "file_id": "1yj-oHYqCnwYVGSM22coa68NqnSoNdyVr",
          "timestamp": 1591622616999
        },
        {
          "file_id": "1v_7DtLnpXrEhVbwZhzDiVQW7ghroi11Y",
          "timestamp": 1591264007511
        }
      ]
    },
    "kernelspec": {
      "display_name": "Python 3",
      "name": "python3"
    },
    "language_info": {
      "codemirror_mode": {
        "name": "ipython",
        "version": 3
      },
      "file_extension": ".py",
      "mimetype": "text/x-python",
      "name": "python",
      "nbconvert_exporter": "python",
      "pygments_lexer": "ipython3",
      "version": "3.7.0"
    }
  },
  "nbformat": 4,
  "nbformat_minor": 0
}
